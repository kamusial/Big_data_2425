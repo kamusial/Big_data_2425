{
 "cells": [
  {
   "cell_type": "markdown",
   "metadata": {},
   "source": [
    "# Klasy i Obiektowość w języku Python"
   ]
  },
  {
   "cell_type": "code",
   "execution_count": 31,
   "metadata": {},
   "outputs": [
    {
     "name": "stdout",
     "output_type": "stream",
     "text": [
      "<__main__.Human object at 0x10609b410>\n",
      "<__main__.Cat object at 0x105ebcce0>\n",
      "Meow!\n",
      "Guten Tag!\n",
      "Siegfried  require clothes to stay warm\n",
      "Mruk not require clothes to stay warm\n"
     ]
    }
   ],
   "source": [
    "class Mammal:\n",
    "    fur = True\n",
    "\n",
    "    def __init__(self, name):\n",
    "        self.name = name\n",
    "\n",
    "    def require_clothes(self):\n",
    "        print(f\"{self.name} {'not' if self.fur else \"\" } require clothes to stay warm\")\n",
    "\n",
    "\n",
    "class Human(Mammal):\n",
    "    fur = False\n",
    "\n",
    "    def make_sound(self):\n",
    "        return \"Guten Tag!\"\n",
    "\n",
    "\n",
    "class Cat(Mammal):\n",
    "    def make_sound(self):\n",
    "        return \"Meow!\"\n",
    "\n",
    "\n",
    "zyg = Human(\"Siegfried\")\n",
    "mruk = Cat(\"Mruk\")\n",
    "\n",
    "print(zyg)  # obiekt zygfrydo-podobny\n",
    "print(mruk)  # obiekt koto-podobny\n",
    "\n",
    "print(mruk.make_sound())\n",
    "print(zyg.make_sound())\n",
    "\n",
    "zyg.require_clothes()\n",
    "mruk.require_clothes()"
   ]
  },
  {
   "cell_type": "markdown",
   "metadata": {},
   "source": [
    "## Magiczne metody wobec klas w Pythonie\n",
    "\n",
    "__new__\n",
    "__init__\n",
    "__call__"
   ]
  },
  {
   "cell_type": "code",
   "execution_count": 32,
   "metadata": {},
   "outputs": [
    {
     "name": "stdout",
     "output_type": "stream",
     "text": [
      "Tworze obiekt przed jego konstruktorem\n",
      "Konstruktor\n",
      "Za każdym razem jak wołasz\n"
     ]
    }
   ],
   "source": [
    "class Example:\n",
    "    def __new__(cls):\n",
    "        print(\"Tworze obiekt przed jego konstruktorem\")\n",
    "        return super().__new__(cls)\n",
    "\n",
    "    def __init__(self):\n",
    "        print(\"Konstruktor\")\n",
    "\n",
    "    def __call__(self):\n",
    "        print(\"Za każdym razem jak wołasz\")\n",
    "\n",
    "\n",
    "ex = Example()\n",
    "ex()"
   ]
  },
  {
   "cell_type": "markdown",
   "metadata": {},
   "source": [
    "## Klasowy context manager"
   ]
  },
  {
   "cell_type": "code",
   "execution_count": 47,
   "metadata": {},
   "outputs": [
    {
     "name": "stdout",
     "output_type": "stream",
     "text": [
      "Entering context for session\n",
      "some_value\n",
      "None\n",
      "Closing safely database connection\n"
     ]
    }
   ],
   "source": [
    "class Session:\n",
    "    def __init__(self, url, user, password):\n",
    "        self.session = f\"{user}:{password}@{url}\"\n",
    "\n",
    "    def __enter__(self):\n",
    "        print(\"Entering context for session\")\n",
    "        return self.session\n",
    "\n",
    "    def __exit__(self, exc_type, exc_value, exc_traceback):\n",
    "        print(\"Closing safely database connection\")\n",
    "        del self.session\n",
    "\n",
    "\n",
    "class DatabaseOperations:\n",
    "    def __init__(self, session):\n",
    "        self.session = session\n",
    "        self.table = {}\n",
    "\n",
    "    def get(self, element):\n",
    "        return self.table.get(element)\n",
    "\n",
    "    def create(self, element):\n",
    "        return self.table.update({element: \"some_value\"})\n",
    "\n",
    "    def delete(self, element):\n",
    "        del self.table[element]\n",
    "\n",
    "\n",
    "with Session(\"http://example.com\", \"adam\", \"tajne\") as session:\n",
    "    db = DatabaseOperations(session)\n",
    "    db.create(\"some_object\")\n",
    "    print(db.get(\"some_object\"))\n",
    "    db.delete(\"some_object\")\n",
    "    print(db.get(\"some_object\"))"
   ]
  },
  {
   "cell_type": "markdown",
   "metadata": {},
   "source": [
    "Zadania:\n",
    "\n",
    "1. Napisz klasę Vehicle, która stworzy klasę bazową pod pojazdy\n",
    "2. Dodaj klasy pochodne: Airplane, Car. Atrybutami tych klas niech będzie prędkość poruszania (w km/h): Airplane - 800, Car - 100\n",
    "3. Klasa Pojazd posiada metodę: `move(self, destination)` gdzie ciało metody przeliczy czas osiągnięcia celu (w godzinach)\n",
    "4. Bazując na samolocie i aucie przemieść pojazdy o 1600 kilometrow\n",
    "Zadanie dodatkowe:\n",
    "5. Jakiego typu jest zwracana wartość w przypadku operacji dzielenia?\n",
    "6. Zabezpiecz metodę `move` przed użyciem w przypadku uruchomienia z klasy bazowej - nie zezwalaj na taką operację\n",
    "\n",
    "\n",
    "Przyjmij, że prędkość jest stała: `v=s/t`"
   ]
  }
 ],
 "metadata": {
  "kernelspec": {
   "display_name": ".venv",
   "language": "python",
   "name": "python3"
  },
  "language_info": {
   "codemirror_mode": {
    "name": "ipython",
    "version": 3
   },
   "file_extension": ".py",
   "mimetype": "text/x-python",
   "name": "python",
   "nbconvert_exporter": "python",
   "pygments_lexer": "ipython3",
   "version": "3.12.6"
  }
 },
 "nbformat": 4,
 "nbformat_minor": 2
}
