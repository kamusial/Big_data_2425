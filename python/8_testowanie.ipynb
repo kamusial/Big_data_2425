{
 "cells": [
  {
   "cell_type": "markdown",
   "metadata": {},
   "source": [
    "# Testowanie w Pythonie\n"
   ]
  },
  {
   "cell_type": "code",
   "execution_count": 3,
   "metadata": {},
   "outputs": [
    {
     "ename": "AssertionError",
     "evalue": "",
     "output_type": "error",
     "traceback": [
      "\u001b[0;31m---------------------------------------------------------------------------\u001b[0m",
      "\u001b[0;31mAssertionError\u001b[0m                            Traceback (most recent call last)",
      "Cell \u001b[0;32mIn[3], line 11\u001b[0m\n\u001b[1;32m      7\u001b[0m     expected_result \u001b[38;5;241m=\u001b[39m \u001b[38;5;241m3\u001b[39m \n\u001b[1;32m      9\u001b[0m     \u001b[38;5;28;01massert\u001b[39;00m sum_numbers(num1,num2) \u001b[38;5;241m==\u001b[39m expected_result\n\u001b[0;32m---> 11\u001b[0m \u001b[43mtest_sum_numbers\u001b[49m\u001b[43m(\u001b[49m\u001b[43m)\u001b[49m\n",
      "Cell \u001b[0;32mIn[3], line 9\u001b[0m, in \u001b[0;36mtest_sum_numbers\u001b[0;34m()\u001b[0m\n\u001b[1;32m      6\u001b[0m num2 \u001b[38;5;241m=\u001b[39m \u001b[38;5;241m2\u001b[39m\n\u001b[1;32m      7\u001b[0m expected_result \u001b[38;5;241m=\u001b[39m \u001b[38;5;241m3\u001b[39m \n\u001b[0;32m----> 9\u001b[0m \u001b[38;5;28;01massert\u001b[39;00m sum_numbers(num1,num2) \u001b[38;5;241m==\u001b[39m expected_result\n",
      "\u001b[0;31mAssertionError\u001b[0m: "
     ]
    }
   ],
   "source": [
    "def sum_numbers(number1, number2):\n",
    "    return number1 + number2\n",
    "\n",
    "\n",
    "def test_sum_numbers():\n",
    "    num1 = 2\n",
    "    num2 = 2\n",
    "    expected_result = 3\n",
    "\n",
    "    assert sum_numbers(num1, num2) == expected_result\n",
    "\n",
    "\n",
    "test_sum_numbers()"
   ]
  },
  {
   "cell_type": "markdown",
   "metadata": {},
   "source": [
    "### Trochę o testach jednostkowych, integracyjnych i strategiach testowania\n",
    "\n",
    "Biblioteka: unittest - standardowa biblioteka do testowania, lecz obecnie istnieją lepsze i szybsze alternatywy "
   ]
  },
  {
   "cell_type": "markdown",
   "metadata": {},
   "source": [
    "https://docs.python.org/3.13/library/unittest.html#module-unittest "
   ]
  },
  {
   "cell_type": "code",
   "execution_count": 7,
   "metadata": {},
   "outputs": [
    {
     "name": "stderr",
     "output_type": "stream",
     "text": [
      "test_isupper (__main__.TestStringMethods.test_isupper) ... ok\n",
      "test_split (__main__.TestStringMethods.test_split) ... ok\n",
      "test_upper (__main__.TestStringMethods.test_upper) ... ok\n",
      "\n",
      "----------------------------------------------------------------------\n",
      "Ran 3 tests in 0.008s\n",
      "\n",
      "OK\n"
     ]
    },
    {
     "data": {
      "text/plain": [
       "<unittest.main.TestProgram at 0x10476f800>"
      ]
     },
     "execution_count": 7,
     "metadata": {},
     "output_type": "execute_result"
    }
   ],
   "source": [
    "import unittest\n",
    "\n",
    "\n",
    "class TestStringMethods(unittest.TestCase):\n",
    "    def test_upper(self):\n",
    "        self.assertEqual(\"foo\".upper(), \"FOO\")\n",
    "\n",
    "    def test_isupper(self):\n",
    "        self.assertTrue(\"FOO\".isupper())\n",
    "        self.assertFalse(\"Foo\".isupper())\n",
    "\n",
    "    def test_split(self):\n",
    "        s = \"hello world\"\n",
    "        self.assertEqual(s.split(), [\"hello\", \"world\"])\n",
    "        # check that s.split fails when the separator is not a string\n",
    "        with self.assertRaises(TypeError):\n",
    "            s.split(2)\n",
    "\n",
    "\n",
    "unittest.main(argv=[\"\"], verbosity=2, exit=False)"
   ]
  }
 ],
 "metadata": {
  "kernelspec": {
   "display_name": ".venv",
   "language": "python",
   "name": "python3"
  },
  "language_info": {
   "codemirror_mode": {
    "name": "ipython",
    "version": 3
   },
   "file_extension": ".py",
   "mimetype": "text/x-python",
   "name": "python",
   "nbconvert_exporter": "python",
   "pygments_lexer": "ipython3",
   "version": "3.12.6"
  }
 },
 "nbformat": 4,
 "nbformat_minor": 2
}
