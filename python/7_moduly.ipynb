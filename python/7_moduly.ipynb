{
 "cells": [
  {
   "cell_type": "markdown",
   "metadata": {},
   "source": [
    "# Moduły i paczki w Pythonie\n",
    "\n",
    "Repozytorium paczek: pypi.org\n",
    "\n",
    "Najpierw poznamy jak stworzyć swoj moduł, a potem w 8 części wykładu przejdziemy do instalowania paczek i zarządzania środowiskami wykonawczymi w pythonie"
   ]
  },
  {
   "cell_type": "markdown",
   "metadata": {},
   "source": [
    "## Środowisko wykonawcze w pythonie\n",
    "\n",
    "Polecenie `python` w linii komend\n",
    "\n",
    "Linux / MacOS - bez problemu\n",
    "\n",
    "Windows - pewne problemy mogą wystąpić \n"
   ]
  },
  {
   "cell_type": "markdown",
   "metadata": {},
   "source": [
    "https://docs.python.org/3/using/windows.html#excursus-setting-environment-variables"
   ]
  },
  {
   "cell_type": "markdown",
   "metadata": {},
   "source": [
    "### Instalowanie zależności i izolacja względem systemowego środowiska wykonawczego\n",
    "\n",
    "Linux / MacOS - bez problemu\n",
    "\n",
    "Windows - pewne problemy mogą wystąpić \n",
    "\n",
    "1. Sprawdźmy możliwość tworzenia środowiska wirtualnego \n",
    "   1. Przejdź do katalogu, w którym masz projekt z tych zajęć - `Big_data_2425`\n",
    "   2. Wydaj polecenie `virtualenv .venv` \n",
    "   3. Nie działa? Spróbuj polecenia `python -m venv .venv`\n",
    "2. Jeśli stworzyłeś wirtualne środowisko wykonawcze należy je jeszcze uruchomić:\n",
    "   1. `source .venv/bin/activate` a dla windowsa: `source .venv\\bin\\activate`\n",
    "3. Teraz potrzebujemy jeszcze tylko zweryfikować działanie polecenia: `pip` użyj komendy: `pip --version`\n",
    "   1. Jeśli otrzymasz informację, iż znajdujesz się w katalogu *Big_Data_2425* oraz polecenie zostało znalezione, to gratulacje możemy przejść dalej\n"
   ]
  }
 ],
 "metadata": {
  "kernelspec": {
   "display_name": ".venv",
   "language": "python",
   "name": "python3"
  },
  "language_info": {
   "codemirror_mode": {
    "name": "ipython",
    "version": 3
   },
   "file_extension": ".py",
   "mimetype": "text/x-python",
   "name": "python",
   "nbconvert_exporter": "python",
   "pygments_lexer": "ipython3",
   "version": "3.12.6"
  }
 },
 "nbformat": 4,
 "nbformat_minor": 2
}
