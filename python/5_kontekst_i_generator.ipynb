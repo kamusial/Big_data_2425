{
 "cells": [
  {
   "cell_type": "markdown",
   "metadata": {},
   "source": [
    "## Zarządzanie kontekstem - context manager"
   ]
  },
  {
   "cell_type": "code",
   "execution_count": 25,
   "metadata": {},
   "outputs": [
    {
     "name": "stdout",
     "output_type": "stream",
     "text": [
      "Ala ma kota a kot ma ale\n",
      "Ala ma kota a kot ma ale\n"
     ]
    }
   ],
   "source": [
    "with open(\"example.txt\") as file_handler:\n",
    "    lines = file_handler.read()\n",
    "\n",
    "print(lines)\n",
    "\n",
    "# Napiszmy to w formule krok po kroku:\n",
    "try:\n",
    "    fh = open(\"example.txt\")\n",
    "    lines = fh.read()\n",
    "finally:\n",
    "    fh.close()\n",
    "\n",
    "print(lines)"
   ]
  },
  {
   "cell_type": "markdown",
   "metadata": {},
   "source": [
    "Dlaczego tak postępujemy?\n",
    "\n",
    "1. Z uwagi na zabezpieczenie przed pozostawieniem otwartego kontekstu (w powyższym przykładzie - do pliku)\n",
    "2. Połączenia do serwerów - zabezpieczenie przez tzw. wiszącymi połączeniami \"dangling connections\""
   ]
  },
  {
   "cell_type": "markdown",
   "metadata": {},
   "source": [
    "## Własny context manager"
   ]
  },
  {
   "cell_type": "code",
   "execution_count": 26,
   "metadata": {},
   "outputs": [
    {
     "name": "stdout",
     "output_type": "stream",
     "text": [
      "<h4>\n",
      "foo\n",
      "</h4>\n"
     ]
    }
   ],
   "source": [
    "from contextlib import contextmanager\n",
    "\n",
    "\n",
    "@contextmanager\n",
    "def tag(name):\n",
    "    print(\"<%s>\" % name)\n",
    "    yield\n",
    "    print(\"</%s>\" % name)\n",
    "\n",
    "\n",
    "with tag(\"h4\"):\n",
    "    print(\"foo\")"
   ]
  },
  {
   "cell_type": "markdown",
   "metadata": {},
   "source": [
    "## Generatory\n"
   ]
  },
  {
   "cell_type": "code",
   "execution_count": 30,
   "metadata": {},
   "outputs": [
    {
     "name": "stdout",
     "output_type": "stream",
     "text": [
      "0\n",
      "1\n",
      "2\n",
      "0\n",
      "1\n",
      "2\n"
     ]
    }
   ],
   "source": [
    "def my_generator(n):\n",
    "    value = 0\n",
    "    while value < n:\n",
    "        yield value\n",
    "        value += 1\n",
    "\n",
    "\n",
    "for value in my_generator(3):\n",
    "    print(value)\n",
    "\n",
    "# Albo\n",
    "generator = my_generator(3)\n",
    "print(next(generator))  # 0\n",
    "print(next(generator))  # 1\n",
    "print(next(generator))  # 2"
   ]
  },
  {
   "cell_type": "markdown",
   "metadata": {},
   "source": [
    "Dlaczego w ogóle generator ma sens bytu w programowaniu?\n",
    "\n",
    "\n",
    "1. Plik - 5GB danych do przetworzenia - kiedyś to był ogromny problem, ale obecnie już mniej, lecz nadal umieszczanie 5GB danych w pamięci RAM to zły pomysł\n",
    "2. Obsługa potoków - połączenie do serwera uznajemy za oczekujące na \"wsad\" i w razie potrzeby piszemy \"do niego\" \n",
    "\n"
   ]
  },
  {
   "cell_type": "markdown",
   "metadata": {},
   "source": [
    "A teraz połączmy to w jedno wraz z listą/słownikiem - generator expressions, list comprehension oraz dict comprehension"
   ]
  },
  {
   "cell_type": "code",
   "execution_count": 41,
   "metadata": {},
   "outputs": [
    {
     "name": "stdout",
     "output_type": "stream",
     "text": [
      "<generator object <genexpr> at 0x119363dc0>\n",
      "0\n",
      "1\n",
      "2\n",
      "3\n",
      "4\n",
      "10\n",
      "11\n",
      "12\n",
      "13\n",
      "14\n",
      "{20: 400, 21: 441, 22: 484, 23: 529, 24: 576}\n",
      "1\n",
      "[9, 18, 27, 36, 45, 54, 63, 72, 81, 90, 99]\n"
     ]
    }
   ],
   "source": [
    "gen = (element for element in range(5))\n",
    "print(gen)\n",
    "print(next(gen))\n",
    "print(next(gen))\n",
    "for elem in gen:\n",
    "    print(elem)\n",
    "\n",
    "gen = (element for element in range(10, 15))\n",
    "_ = [print(elem) for elem in gen]\n",
    "\n",
    "kwadraty = {num: num * num for num in range(20, 25)}\n",
    "print(kwadraty)\n",
    "\n",
    "# Czy można stworzyć z listy iterator? Owszem!\n",
    "numbers = [1, 2, 3, 4, 5]\n",
    "numbers_iter = iter(numbers)\n",
    "\n",
    "print(next(numbers_iter))\n",
    "\n",
    "# Na koniec jeszcze możliwość łączenia warunków do wyżej wymienionych przykładów\n",
    "div_by_nine = [elem for elem in range(1, 100) if elem % 9 == 0]\n",
    "print(div_by_nine)"
   ]
  },
  {
   "cell_type": "markdown",
   "metadata": {},
   "source": [
    "### Zadania\n",
    "\n",
    "1. Program odczytał następującą kolumnę informacji w formie listy: \n",
    "   ```python\n",
    "   data_frame = ['2024-10-11T22:01', '2024-10-11T22:01', '2024-10-11T22:02', '2024-10-11T22:03', '2024-10-11T22:04', '2024-10-11T22:05', '2024-10-11T22:06', '2024-10-11T22:07', '2024-10-11T22:08', None, '2024-10-11T22:09', '2024-10-11T22:10', None, None, '2024-10-11T22:11', '2024-10-11T22:12', '2024-10-11T22:13', None, '2024-10-11T22:14', '2024-10-11T22:15', '2024-10-11T22:16', '2024-10-11T22:17', '2024-10-11T22:18', '2024-10-11T22:19']\n",
    "   ```\n",
    "   Wykorzystując list comprehension usuń wszelkie puste wartości `None`, a następnie zlicz ilość elementów w powstałej liście\n"
   ]
  }
 ],
 "metadata": {
  "kernelspec": {
   "display_name": ".venv",
   "language": "python",
   "name": "python3"
  },
  "language_info": {
   "codemirror_mode": {
    "name": "ipython",
    "version": 3
   },
   "file_extension": ".py",
   "mimetype": "text/x-python",
   "name": "python",
   "nbconvert_exporter": "python",
   "pygments_lexer": "ipython3",
   "version": "3.12.6"
  }
 },
 "nbformat": 4,
 "nbformat_minor": 2
}
