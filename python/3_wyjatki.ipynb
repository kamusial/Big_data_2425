{
 "cells": [
  {
   "cell_type": "markdown",
   "metadata": {},
   "source": [
    "## Zarządzanie wyjątkami - Exception"
   ]
  },
  {
   "cell_type": "code",
   "execution_count": null,
   "metadata": {},
   "outputs": [
    {
     "ename": "Exception",
     "evalue": "Something is not right!",
     "output_type": "error",
     "traceback": [
      "\u001b[0;31m---------------------------------------------------------------------------\u001b[0m\n",
      "\u001b[0;31mException\u001b[0m                                 Traceback (most recent call last)\n",
      "Cell \u001b[0;32mIn[51], line 1\u001b[0m\n",
      "\u001b[0;32m----> 1\u001b[0m \u001b[38;5;28;01mraise\u001b[39;00m \u001b[38;5;167;01mException\u001b[39;00m(\u001b[38;5;124m\"\u001b[39m\u001b[38;5;124mSomething is not right!\u001b[39m\u001b[38;5;124m\"\u001b[39m)\n",
      "\n",
      "\u001b[0;31mException\u001b[0m: Something is not right!"
     ]
    }
   ],
   "source": [
    "raise Exception(\"Something is not right!\")"
   ]
  },
  {
   "cell_type": "code",
   "execution_count": null,
   "metadata": {},
   "outputs": [
    {
     "name": "stdout",
     "output_type": "stream",
     "text": [
      "Ten klucz nie jest dostępny w słowniku!\n"
     ]
    }
   ],
   "source": [
    "test_dict = {\"key\": \"val\"}\n",
    "\n",
    "try:\n",
    "    test_dict[\"other\"]\n",
    "except AttributeError:\n",
    "    print(\"Ten wyjątek nie wystąpi\")\n",
    "except KeyError:\n",
    "    print(\"Ten klucz nie jest dostępny w słowniku!\")"
   ]
  },
  {
   "cell_type": "code",
   "execution_count": null,
   "metadata": {},
   "outputs": [
    {
     "name": "stdout",
     "output_type": "stream",
     "text": [
      "tutaj możemy dalej wykonywać kod!\n",
      "Tutaj wykonamy kod w każdym z przypadków - zarówno gdy napotkamy wyjątek jak i nie\n",
      "Mamy wyjątek brakującego klucza w słowniku\n",
      "Tutaj wykonamy kod w każdym z przypadków\n"
     ]
    }
   ],
   "source": [
    "test_dict = {\"key\": \"val\"}\n",
    "\n",
    "try:\n",
    "    test_dict[\"key\"]\n",
    "except KeyError:\n",
    "    print(\"Ten wyjątek nie wystąpi\")\n",
    "else:\n",
    "    print(\"tutaj możemy dalej wykonywać kod!\")\n",
    "finally:\n",
    "    print(\n",
    "        \"Tutaj wykonamy kod w każdym z przypadków - zarówno gdy napotkamy wyjątek jak i nie\"\n",
    "    )\n",
    "\n",
    "\n",
    "try:\n",
    "    test_dict[\"not\"]\n",
    "except KeyError:\n",
    "    print(\"Mamy wyjątek brakującego klucza w słowniku\")\n",
    "finally:\n",
    "    print(\"Tutaj wykonamy kod w każdym z przypadków\")"
   ]
  },
  {
   "cell_type": "markdown",
   "metadata": {},
   "source": [
    "Teraz trochę dłuższy przykład"
   ]
  },
  {
   "cell_type": "code",
   "execution_count": null,
   "metadata": {},
   "outputs": [
    {
     "name": "stdout",
     "output_type": "stream",
     "text": [
      "5\n",
      "32\n"
     ]
    }
   ],
   "source": [
    "def add_numbers(num1, num2):\n",
    "    should_raise = not (isinstance(num1, int) and isinstance(num2, int))\n",
    "    if should_raise:\n",
    "        raise AttributeError(\"Only Integers allowed!\")\n",
    "    return num1 + num2\n",
    "\n",
    "\n",
    "def merge_strings(str1, str2):\n",
    "    should_raise = not (isinstance(str1, str) and isinstance(str2, str))\n",
    "    if should_raise:\n",
    "        raise AttributeError(\"Only Strings allowed!\")\n",
    "    return str1 + str2\n",
    "\n",
    "\n",
    "def merge_or_add(*params):\n",
    "    try:\n",
    "        effect = add_numbers(*params)\n",
    "    except AttributeError:\n",
    "        effect = merge_strings(*params)\n",
    "    return effect\n",
    "\n",
    "\n",
    "for param in [(3, 2), (\"3\", \"2\")]:\n",
    "    print(merge_or_add(*param))"
   ]
  },
  {
   "cell_type": "markdown",
   "metadata": {},
   "source": [
    "Zadanie:\n",
    "1. Napisz dwie funkcje: jedna do obliczania efektu mnożenia dwóch liczb całkowitych, druga do zamiany typu zmiennej (jeśli jest to typ ciągu znaków - string) na zmienną typu całkowitego wykorzystaj w niej: `int(param1)`\n"
   ]
  }
 ],
 "metadata": {
  "language_info": {
   "name": "python"
  }
 },
 "nbformat": 4,
 "nbformat_minor": 2
}
