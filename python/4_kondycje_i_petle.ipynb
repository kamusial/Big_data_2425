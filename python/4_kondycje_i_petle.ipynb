{
 "cells": [
  {
   "cell_type": "markdown",
   "metadata": {},
   "source": [
    "# Obsługa kondycji i pętli w języku Python"
   ]
  },
  {
   "cell_type": "markdown",
   "metadata": {},
   "source": [
    "Kondycja -  _if/elif/else_"
   ]
  },
  {
   "cell_type": "code",
   "execution_count": null,
   "metadata": {},
   "outputs": [],
   "source": [
    "def sum_or_multiply(first, second, operation):\n",
    "    if operation == \"mul\":\n",
    "        return first * second\n",
    "    elif operation == \"sum\":\n",
    "        return first + second\n",
    "    else:\n",
    "        raise AttributeError(\"Unknown Operation\")\n",
    "\n",
    "\n",
    "input(\"jaki będzie efekt?\")\n",
    "sum_or_multiply(1, 2, \"sum\")\n",
    "input()\n",
    "sum_or_multiply(1, 2, \"mul\")\n",
    "input()\n",
    "sum_or_multiply(1, 2)"
   ]
  },
  {
   "cell_type": "markdown",
   "metadata": {},
   "source": [
    "Czy można uprościć kondycje?\n",
    "Owszem!"
   ]
  },
  {
   "cell_type": "code",
   "execution_count": null,
   "metadata": {},
   "outputs": [],
   "source": [
    "def sum_or_multiply(first, second, operation):\n",
    "    return first + second if operation == \"sum\" else first * second\n",
    "\n",
    "\n",
    "input(\"jaki będzie efekt?\")\n",
    "sum_or_multiply(1, 2, \"sum\")\n",
    "\n",
    "input()\n",
    "sum_or_multiply(1, 2)"
   ]
  },
  {
   "cell_type": "markdown",
   "metadata": {},
   "source": [
    "Ma to swoje wady (ale również i zalety)"
   ]
  },
  {
   "cell_type": "markdown",
   "metadata": {},
   "source": [
    "## Petla while"
   ]
  },
  {
   "cell_type": "code",
   "execution_count": 1,
   "metadata": {},
   "outputs": [
    {
     "name": "stdout",
     "output_type": "stream",
     "text": [
      "Ala\n",
      "ma\n",
      "kota,\n",
      "a\n",
      "kot\n",
      "ma\n",
      "Alę,\n",
      "siedzi\n",
      "na\n",
      "drzewie\n",
      "i\n",
      "nie\n",
      "miauczy\n",
      "wcale\n",
      "!!! Finished !!!\n"
     ]
    }
   ],
   "source": [
    "def iterate_until_empty(data_pipeline):\n",
    "    while data_pipeline:\n",
    "        print(data_pipeline.pop(0))\n",
    "    else:\n",
    "        print(\"!!! Finished !!!\")\n",
    "\n",
    "\n",
    "data = \"Ala ma kota, a kot ma Alę, siedzi na drzewie i nie miauczy wcale\"\n",
    "iterate_until_empty(data.split())"
   ]
  },
  {
   "cell_type": "markdown",
   "metadata": {},
   "source": [
    "Jak widać możemy iterować po elementach listy, aż ją opróżnimy, aż do momentu kiedy elementy nie zostały wyczerpane"
   ]
  },
  {
   "cell_type": "markdown",
   "metadata": {},
   "source": [
    "Zadanie 4:\n",
    "\n",
    "Z wykorzystaniem pętli `while` odczytaj co drugie słowo z przykładowego ciągu znaków:\n",
    "\n",
    "```python\n",
    "\n",
    "text = \"Zobacz jak zrobić najlepsze ciasto na pierogi. Mój uniwersalny przepis polecam każdemu, kto szuka sprawdzonego sposobu na to, by zrobić idealne ciasto pierogowe. Elastyczne, miękkie i bardzo łatwe do zrobienia.\"\n",
    "lista = text.split()\n",
    "```"
   ]
  }
 ],
 "metadata": {
  "kernelspec": {
   "display_name": ".venv",
   "language": "python",
   "name": "python3"
  },
  "language_info": {
   "codemirror_mode": {
    "name": "ipython",
    "version": 3
   },
   "file_extension": ".py",
   "mimetype": "text/x-python",
   "name": "python",
   "nbconvert_exporter": "python",
   "pygments_lexer": "ipython3",
   "version": "3.12.6"
  }
 },
 "nbformat": 4,
 "nbformat_minor": 2
}
