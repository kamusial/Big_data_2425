{
 "cells": [
  {
   "cell_type": "markdown",
   "metadata": {},
   "source": [
    "# Zmienne w jezyku Python"
   ]
  },
  {
   "cell_type": "markdown",
   "metadata": {},
   "source": [
    "Proste typy zmiennych:"
   ]
  },
  {
   "cell_type": "markdown",
   "metadata": {},
   "source": [
    "Boolean - True/False"
   ]
  },
  {
   "cell_type": "code",
   "execution_count": 41,
   "metadata": {},
   "outputs": [
    {
     "name": "stdout",
     "output_type": "stream",
     "text": [
      "True\n",
      "False\n",
      "Size is grater than 0? True\n",
      "2\n",
      "0\n"
     ]
    }
   ],
   "source": [
    "print(bool(1))\n",
    "print(bool(0))\n",
    "\n",
    "size = 1\n",
    "print(f\"Size is grater than 0? {size > 0}\")\n",
    "\n",
    "print(True + True)\n",
    "print(True * False)"
   ]
  },
  {
   "cell_type": "markdown",
   "metadata": {},
   "source": [
    "Zmienne numeryczne - całkowite (int), zmiennoprzecinkowe (float), ułamkowe (fraction), liczby zespolone (complex)"
   ]
  },
  {
   "cell_type": "code",
   "execution_count": 42,
   "metadata": {},
   "outputs": [
    {
     "name": "stdout",
     "output_type": "stream",
     "text": [
      "<class 'int'>\n",
      "<class 'float'>\n",
      "1/3\n",
      "<class 'fractions.Fraction'>\n",
      "(1-1j)\n",
      "<class 'complex'>\n"
     ]
    }
   ],
   "source": [
    "from fractions import Fraction\n",
    "\n",
    "print(type(1))\n",
    "\n",
    "print(type(1.0))\n",
    "\n",
    "\n",
    "third = Fraction(1, 3)\n",
    "print(third)\n",
    "print(type(third))\n",
    "\n",
    "some_complex = complex(1, -1)\n",
    "print(some_complex)\n",
    "print(type(some_complex))"
   ]
  },
  {
   "cell_type": "markdown",
   "metadata": {},
   "source": [
    "String - Ciągi znaków\n",
    "Niezmienny, lecz slicing możliwy"
   ]
  },
  {
   "cell_type": "code",
   "execution_count": 43,
   "metadata": {},
   "outputs": [
    {
     "name": "stdout",
     "output_type": "stream",
     "text": [
      "Bardzo \n",
      "['Bardzo', 'wazny', 'tekst']\n",
      "tsket ynzaw ozdraB\n"
     ]
    }
   ],
   "source": [
    "text = \"Bardzo wazny tekst\"\n",
    "\n",
    "multiline_text = \"\"\"Ten\n",
    "tekst\n",
    "ma wiele linii\n",
    "\"\"\"\n",
    "\n",
    "# splicing\n",
    "splice = text[0:7]\n",
    "print(splice)\n",
    "\n",
    "# podział na słowa\n",
    "split = text.split()  # dzielimy na słowa szukając znaku spacji (domyślny argument)\n",
    "print(split)\n",
    "\n",
    "# odwracanie ciągu znaków\n",
    "text_reversed = text[::-1]\n",
    "print(text_reversed)"
   ]
  },
  {
   "cell_type": "markdown",
   "metadata": {},
   "source": [
    "Małe zadanie: Wykorzystując mechanizm odwracania ciągu znaków sprawdź czy słowo jest palindromem"
   ]
  },
  {
   "cell_type": "code",
   "execution_count": 44,
   "metadata": {},
   "outputs": [],
   "source": [
    "slowo_1 = \"ameba\"\n",
    "slowo_2 = \"kajak\""
   ]
  },
  {
   "cell_type": "markdown",
   "metadata": {},
   "source": [
    "## Lista"
   ]
  },
  {
   "cell_type": "code",
   "execution_count": 45,
   "metadata": {},
   "outputs": [
    {
     "name": "stdout",
     "output_type": "stream",
     "text": [
      "<class 'list'>\n",
      "['kota', 'ma', 'Ala']\n",
      "['kota', 'ma', 'Ala']\n"
     ]
    }
   ],
   "source": [
    "some_list = [\"Ala\", \"ma\", \"kota\"]\n",
    "\n",
    "print(type(some_list))\n",
    "\n",
    "# Czy listę możemy w łatwy sposób obracać?\n",
    "# Możemy!\n",
    "print(some_list[::-1])\n",
    "\n",
    "# A można to zrobić bardziej po \"pythonicznemu\"?\n",
    "print(list(reversed(some_list)))"
   ]
  },
  {
   "cell_type": "markdown",
   "metadata": {},
   "source": [
    "###  Porozmawiajmy o mutowalności\n"
   ]
  },
  {
   "cell_type": "markdown",
   "metadata": {},
   "source": [
    "Możemy zastępować elementy wobec istniejącej listy"
   ]
  },
  {
   "cell_type": "code",
   "execution_count": 46,
   "metadata": {},
   "outputs": [
    {
     "name": "stdout",
     "output_type": "stream",
     "text": [
      "['Ela', 'ma', 'psa']\n"
     ]
    }
   ],
   "source": [
    "some_list = [\"Ala\", \"ma\", \"kota\"]\n",
    "some_list[0] = \"Ela\"\n",
    "some_list[-1] = \"psa\"\n",
    "\n",
    "print(some_list)"
   ]
  },
  {
   "cell_type": "markdown",
   "metadata": {},
   "source": [
    "Możemy dopisywać elementy do listy"
   ]
  },
  {
   "cell_type": "code",
   "execution_count": 47,
   "metadata": {},
   "outputs": [
    {
     "name": "stdout",
     "output_type": "stream",
     "text": [
      "['Ala', 'ma', 'kota', 'i psa']\n",
      "['Ala', 'ma', 'kota', 'i', 'psa', 'oraz', 'lwa']\n",
      "2\n",
      "(0, 'element')\n",
      "(1, 'element')\n",
      "(2, 'some')\n",
      "(3, 'other')\n"
     ]
    }
   ],
   "source": [
    "some_list = [\"Ala\", \"ma\", \"kota\"]\n",
    "# some_list[3] = \"new\"\n",
    "# Czy tak można?\n",
    "# Nie można!\n",
    "\n",
    "some_list.append(\"i psa\")\n",
    "print(some_list)\n",
    "\n",
    "# jak usunąć ostatni element listy?\n",
    "some_list.remove(\"i psa\")\n",
    "\n",
    "# Jak połączyć dwie listy ze sobą tak by pierwsza zawierała wszystkie elementy drugiej?\n",
    "\n",
    "another_list = [\"i\", \"psa\", \"oraz\", \"lwa\"]\n",
    "some_list.extend(another_list)\n",
    "\n",
    "print(some_list)\n",
    "\n",
    "# Jak policzyć ilość elementów w liście?\n",
    "\n",
    "len(some_list)\n",
    "\n",
    "# Jak policzyć częstość elementu w danej liście?\n",
    "another_list = [\"element\", \"element\", \"some\", \"other\"]\n",
    "print(another_list.count(\"element\"))\n",
    "\n",
    "# Inne przydatne funkcje do współpracy z listami\n",
    "\n",
    "elems = enumerate(another_list)\n",
    "print(next(elems))\n",
    "print(next(elems))\n",
    "print(next(elems))\n",
    "print(next(elems))"
   ]
  },
  {
   "cell_type": "markdown",
   "metadata": {},
   "source": [
    "Zadanie:\n",
    "Wykorzystaj listę:\n",
    "`some_list = [\"Ala\", \"ma\", \"kota\"]`\n",
    "\n",
    "Zastąp pierwszy element imieniem: Ola\n",
    "\n",
    "Dodaj do listy na jej końcu dodatkowe elementy: \"i\", oraz \"lwa\" stanowiące element jednej z list\n",
    "\n",
    "`next_list = [\"i\", \"lwa\"]`\n",
    "\n",
    "Zadanie dla szybkich:\n",
    "\n",
    "Dodaj na początku listy dwa elementy (nie zastępując istniejących)\n",
    "\n",
    "`prefix_list = [\"Od\", \"wielu\", \"lat\"]`"
   ]
  },
  {
   "cell_type": "markdown",
   "metadata": {},
   "source": [
    "## Słownik\n",
    "\n",
    "Pomaga nam powiązać wartości typu klucz/wartość i odwoływać się do klucza, a nie indeksu "
   ]
  },
  {
   "cell_type": "code",
   "execution_count": 49,
   "metadata": {},
   "outputs": [
    {
     "name": "stdout",
     "output_type": "stream",
     "text": [
      "{'name': 'Ala', 'age': 16, 'pets': ['cat', 'lion']}\n",
      "Ala\n",
      "{'name': 'Ola', 'age': 16, 'pets': ['cat', 'lion']}\n",
      "{'name': 'Ela', 'age': 16, 'pets': ['cat', 'lion']}\n",
      "dict_keys(['name', 'age', 'pets'])\n",
      "dict_values(['Ela', 16, ['cat', 'lion']])\n",
      "name Ela\n",
      "age 16\n",
      "pets ['cat', 'lion']\n",
      "{'name': 'other_value', 'other': 'value'}\n",
      "{'name': 'other_value', 'other': 'value'}\n"
     ]
    }
   ],
   "source": [
    "person_data = {\"name\": \"Ala\", \"age\": 16, \"pets\": [\"cat\", \"lion\"]}\n",
    "\n",
    "print(person_data)\n",
    "\n",
    "# Jak dostać się do wartości?\n",
    "print(person_data[\"name\"])\n",
    "\n",
    "# Jak modyfikować wartości - dwa sposoby\n",
    "person_data[\"name\"] = \"Ola\"\n",
    "print(person_data)\n",
    "# Lub\n",
    "person_data.update({\"name\": \"Ela\"})\n",
    "print(person_data)\n",
    "\n",
    "# Jak poznać listę kluczy\n",
    "print(person_data.keys())\n",
    "\n",
    "# Jak poznać listę wartości\n",
    "print(person_data.values())\n",
    "\n",
    "# Specjalna metoda, której będziemy również używać w iteracjach\n",
    "# Zwracająca zbiór klucz-wartość w formacie iterowalnym\n",
    "for key, value in person_data.items():\n",
    "    print(key, value)\n",
    "\n",
    "# Jak połączyć dwa słowniki\n",
    "\n",
    "dict_a = {\"name\": \"value\"}\n",
    "dict_b = {\"other\": \"value\", \"name\": \"other_value\"}\n",
    "\n",
    "# Można tak - logiczny operator unii - działa od wersji 3.10\n",
    "print(dict_a | dict_b)\n",
    "# Można również tak - rozpakowanie kwargs\n",
    "dict_a = {\"name\": \"value\"}\n",
    "dict_b = {\"other\": \"value\", \"name\": \"other_value\"}\n",
    "print({**dict_a, **dict_b})\n",
    "\n",
    "# Albo i tak:"
   ]
  },
  {
   "cell_type": "markdown",
   "metadata": {},
   "source": [
    "### Zadania\n",
    "\n",
    "1. Wykorzystaj słownik\n",
    "```python\n",
    "customer_data = {\n",
    "    \"customer_id\": 123,\n",
    "    \"order_id\": 16,\n",
    "    \"ordered_items\": [\"book\", \"book\", \"cup\", \"shampoo\"]\n",
    "}\n",
    "```\n",
    "\n",
    "1. Odczytaj tylko elementy, które zostały kupione w trakcie transakcji\n",
    "2. Dodaj informację do istniejącego słownika informację odnośnie daty realizacji zamówienia: `2024-10-12`\n",
    "3. Wykorzystaj słownik przedmiotów dostępnych na stanie sklepu:\n",
    "   ```python\n",
    "   warehouse_items = [\n",
    "    {\"item\": \"cup\", \"total\": 123},\n",
    "    {\"item\": \"book\", \"total\": 5},\n",
    "    {\"item\": \"shampoo\", \"total\": 2}\n",
    "   ]\n",
    "   ```\n",
    "   - Rozpakuj informację z listy słowników do oddzielnych słownikow w zależności od nazwy przedmiotu\n",
    "   - Odejmij ilość przedmiotów z każdego słownika w zależności od ilości zamówionych przedmiotów (`count`)"
   ]
  },
  {
   "cell_type": "markdown",
   "metadata": {},
   "source": [
    "## Zbiór\n"
   ]
  },
  {
   "cell_type": "code",
   "execution_count": 4,
   "metadata": {},
   "outputs": [
    {
     "name": "stdout",
     "output_type": "stream",
     "text": [
      "{'book', 'shampoo', 'cup'}\n",
      "{1, 2, 3, 7, 21, 123, 4444444}\n"
     ]
    }
   ],
   "source": [
    "some_list = [\"book\", \"book\", \"cup\", \"shampoo\"]\n",
    "\n",
    "some_nums = [2, 3, 1, 7, 1, 123, 4444444, 21]\n",
    "\n",
    "print(set(some_list))\n",
    "print(set(some_nums))"
   ]
  },
  {
   "cell_type": "markdown",
   "metadata": {},
   "source": [
    "### Operacje logiczne na zbiorach"
   ]
  },
  {
   "attachments": {
    "image.png": {
     "image/png": "[encoded data removed]"
    }
   },
   "cell_type": "markdown",
   "metadata": {},
   "source": [
    "![image.png](attachment:image.png)"
   ]
  },
  {
   "cell_type": "code",
   "execution_count": 13,
   "metadata": {},
   "outputs": [
    {
     "name": "stdout",
     "output_type": "stream",
     "text": [
      "{1, 2, 3, 4, 5}\n",
      "{1, 2, 3, 4, 5}\n",
      "{3}\n",
      "{3}\n",
      "{1, 2, 4, 5}\n",
      "{1, 2, 4, 5}\n",
      "{1, 2}\n",
      "{1, 2}\n"
     ]
    }
   ],
   "source": [
    "set_start = {1, 2, 3}\n",
    "\n",
    "set_end = {3, 4, 5}\n",
    "\n",
    "print(set_start.union(set_end))  # Bardziej pythoniczne\n",
    "print(set_start | set_end)\n",
    "\n",
    "print(set_start.intersection(set_end))  # Bardziej pythoniczne\n",
    "print(set_start & set_end)\n",
    "\n",
    "print(set_start.symmetric_difference(set_end))  # Bardziej pythoniczne\n",
    "print(set_start ^ set_end)\n",
    "\n",
    "print(set_start.difference(set_end))  # Bardziej pythoniczne\n",
    "print(set_start - set_end)"
   ]
  },
  {
   "cell_type": "markdown",
   "metadata": {},
   "source": [
    "Zadanie:\n",
    "\n",
    "Posortuj alfabetycznie oraz odfiltruj duplikaty z listy:\n",
    "```python\n",
    "elements = [\"banana\", \"banana\", \"barnaba\", \"barbara\", \"baklawa\"]\n",
    "```"
   ]
  }
 ],
 "metadata": {
  "kernelspec": {
   "display_name": ".venv",
   "language": "python",
   "name": "python3"
  },
  "language_info": {
   "codemirror_mode": {
    "name": "ipython",
    "version": 3
   },
   "file_extension": ".py",
   "mimetype": "text/x-python",
   "name": "python",
   "nbconvert_exporter": "python",
   "pygments_lexer": "ipython3",
   "version": "3.12.6"
  }
 },
 "nbformat": 4,
 "nbformat_minor": 2
}
