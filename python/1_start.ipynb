{
 "cells": [
  {
   "cell_type": "markdown",
   "metadata": {},
   "source": [
    "# Wstęp do języka Python"
   ]
  },
  {
   "cell_type": "code",
   "execution_count": 42,
   "metadata": {},
   "outputs": [
    {
     "name": "stdout",
     "output_type": "stream",
     "text": [
      "Hello World!\n"
     ]
    }
   ],
   "source": [
    "print(\"Hello World!\")"
   ]
  },
  {
   "cell_type": "markdown",
   "metadata": {},
   "source": [
    "Python jako język programowania stawia na prostotę... ale ma swoje problemy\n",
    "\n",
    "\n",
    "Dokumentacja (oraz wbudowane biblioteki): https://docs.python.org/3/library/index.html\n",
    "\n",
    "Glosariusz: https://docs.python.org/3.13/glossary.html\n",
    "\n",
    "PEP - Python Enhancement Proposals: https://peps.python.org/\n",
    "\n",
    "Słowa kluczowe - https://www.w3schools.com/python/python_ref_keywords.asp \n",
    "\n",
    "Wskazania odnośnie pisania kodu w pythonie: https://pep8.org/ "
   ]
  },
  {
   "cell_type": "code",
   "execution_count": 43,
   "metadata": {},
   "outputs": [
    {
     "name": "stdout",
     "output_type": "stream",
     "text": [
      "The Zen of Python, by Tim Peters\n",
      "\n",
      "Beautiful is better than ugly.\n",
      "Explicit is better than implicit.\n",
      "Simple is better than complex.\n",
      "Complex is better than complicated.\n",
      "Flat is better than nested.\n",
      "Sparse is better than dense.\n",
      "Readability counts.\n",
      "Special cases aren't special enough to break the rules.\n",
      "Although practicality beats purity.\n",
      "Errors should never pass silently.\n",
      "Unless explicitly silenced.\n",
      "In the face of ambiguity, refuse the temptation to guess.\n",
      "There should be one-- and preferably only one --obvious way to do it.\n",
      "Although that way may not be obvious at first unless you're Dutch.\n",
      "Now is better than never.\n",
      "Although never is often better than *right* now.\n",
      "If the implementation is hard to explain, it's a bad idea.\n",
      "If the implementation is easy to explain, it may be a good idea.\n",
      "Namespaces are one honking great idea -- let's do more of those!\n"
     ]
    }
   ],
   "source": [
    "import this # https://pep20.org/\n",
    "\n",
    "print(\"\".join([this.d.get(c, c) for c in this.s]))"
   ]
  },
  {
   "cell_type": "markdown",
   "metadata": {},
   "source": [
    "Zen języka Python - wszystkie 19 wskazań od twórców języka jak być _Pythonicznym_ twórcą "
   ]
  },
  {
   "cell_type": "markdown",
   "metadata": {},
   "source": [
    "Przykładowo:"
   ]
  },
  {
   "cell_type": "code",
   "execution_count": 44,
   "metadata": {},
   "outputs": [
    {
     "name": "stdout",
     "output_type": "stream",
     "text": [
      "meat\n",
      "carrot\n",
      "meat\n",
      "carrot\n"
     ]
    }
   ],
   "source": [
    "food = [\"meat\", \"carrot\"]\n",
    "# To nie jest pythoniczne\n",
    "for i in range(len(food)):\n",
    "    print(food[i])\n",
    "\n",
    "# To jest pythoniczne\n",
    "for piece in food:\n",
    "    print(piece)"
   ]
  },
  {
   "cell_type": "markdown",
   "metadata": {},
   "source": [
    "W pythonie można również importować różne inne ciekawe rzeczy - w tym antygrawitacje"
   ]
  },
  {
   "cell_type": "code",
   "execution_count": 1,
   "metadata": {},
   "outputs": [],
   "source": [
    "import antigravity"
   ]
  },
  {
   "cell_type": "markdown",
   "metadata": {},
   "source": [
    "Lecz domyślnie język służy do szybkiego tworzenia rozwiązań (tzw. fast-prototyping)"
   ]
  },
  {
   "cell_type": "code",
   "execution_count": 1,
   "metadata": {},
   "outputs": [
    {
     "name": "stdout",
     "output_type": "stream",
     "text": [
      "4.0 KB\n",
      "4.0 KB\n",
      "976562500.0 KB\n"
     ]
    }
   ],
   "source": [
    "def approximate_size_in_kB(size, a_kilobyte_is_1024_bytes=True):\n",
    "    if a_kilobyte_is_1024_bytes:\n",
    "        divider = 1024\n",
    "    else:\n",
    "        divider = 1024\n",
    "    return f\"{size/divider} KB\"\n",
    "\n",
    "\n",
    "print(approximate_size_in_kB(4096))\n",
    "print(approximate_size_in_kB(size=4096, a_kilobyte_is_1024_bytes=True))\n",
    "\n",
    "\n",
    "print(approximate_size_in_kB(1000000000000, False))"
   ]
  },
  {
   "cell_type": "markdown",
   "metadata": {},
   "source": [
    "## Zadanie 1\n",
    "\n",
    "Napisz funkcję o przyjmującą w wywołaniu dwa argumenty i zwróć ich sumę\n",
    "\n",
    "licz(1,3) # wynik: 4\n",
    "\n",
    "## Zadanie dla szybkich:\n",
    "\n",
    "Napisz funkcję, która będzie równocześnie licznikiem sumy poprzedniej\n",
    "działanie ma być następujące:\n",
    "\n",
    "licz(1, 2) # wynik 3\n",
    "licz(1) # wynik 4 \n",
    "licz(1) # wynik 5 "
   ]
  }
 ],
 "metadata": {
  "kernelspec": {
   "display_name": ".venv",
   "language": "python",
   "name": "python3"
  },
  "language_info": {
   "codemirror_mode": {
    "name": "ipython",
    "version": 3
   },
   "file_extension": ".py",
   "mimetype": "text/x-python",
   "name": "python",
   "nbconvert_exporter": "python",
   "pygments_lexer": "ipython3",
   "version": "3.12.6"
  }
 },
 "nbformat": 4,
 "nbformat_minor": 2
}
